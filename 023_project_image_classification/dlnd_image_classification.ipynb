{
 "cells": [
  {
   "cell_type": "markdown",
   "metadata": {
    "collapsed": true
   },
   "source": [
    "# Image Classification\n",
    "In this project, you'll classify images from the [CIFAR-10 dataset](https://www.cs.toronto.edu/~kriz/cifar.html).  The dataset consists of airplanes, dogs, cats, and other objects. You'll preprocess the images, then train a convolutional neural network on all the samples. The images need to be normalized and the labels need to be one-hot encoded.  You'll get to apply what you learned and build a convolutional, max pooling, dropout, and fully connected layers.  At the end, you'll get to see your neural network's predictions on the sample images.\n",
    "## Get the Data\n",
    "Run the following cell to download the [CIFAR-10 dataset for python](https://www.cs.toronto.edu/~kriz/cifar-10-python.tar.gz)."
   ]
  },
  {
   "cell_type": "code",
   "execution_count": 1,
   "metadata": {
    "collapsed": false
   },
   "outputs": [
    {
     "name": "stdout",
     "output_type": "stream",
     "text": [
      "All files found!\n"
     ]
    }
   ],
   "source": [
    "\"\"\"\n",
    "DON'T MODIFY ANYTHING IN THIS CELL THAT IS BELOW THIS LINE\n",
    "\"\"\"\n",
    "from urllib.request import urlretrieve\n",
    "from os.path import isfile, isdir\n",
    "from tqdm import tqdm\n",
    "import problem_unittests as tests\n",
    "import tarfile\n",
    "\n",
    "cifar10_dataset_folder_path = 'cifar-10-batches-py'\n",
    "\n",
    "class DLProgress(tqdm):\n",
    "    last_block = 0\n",
    "\n",
    "    def hook(self, block_num=1, block_size=1, total_size=None):\n",
    "        self.total = total_size\n",
    "        self.update((block_num - self.last_block) * block_size)\n",
    "        self.last_block = block_num\n",
    "\n",
    "if not isfile('cifar-10-python.tar.gz'):\n",
    "    with DLProgress(unit='B', unit_scale=True, miniters=1, desc='CIFAR-10 Dataset') as pbar:\n",
    "        urlretrieve(\n",
    "            'https://www.cs.toronto.edu/~kriz/cifar-10-python.tar.gz',\n",
    "            'cifar-10-python.tar.gz',\n",
    "            pbar.hook)\n",
    "\n",
    "if not isdir(cifar10_dataset_folder_path):\n",
    "    with tarfile.open('cifar-10-python.tar.gz') as tar:\n",
    "        tar.extractall()\n",
    "        tar.close()\n",
    "\n",
    "\n",
    "tests.test_folder_path(cifar10_dataset_folder_path)"
   ]
  },
  {
   "cell_type": "markdown",
   "metadata": {},
   "source": [
    "## Explore the Data\n",
    "The dataset is broken into batches to prevent your machine from running out of memory.  The CIFAR-10 dataset consists of 5 batches, named `data_batch_1`, `data_batch_2`, etc.. Each batch contains the labels and images that are one of the following:\n",
    "* airplane\n",
    "* automobile\n",
    "* bird\n",
    "* cat\n",
    "* deer\n",
    "* dog\n",
    "* frog\n",
    "* horse\n",
    "* ship\n",
    "* truck\n",
    "\n",
    "Understanding a dataset is part of making predictions on the data.  Play around with the code cell below by changing the `batch_id` and `sample_id`. The `batch_id` is the id for a batch (1-5). The `sample_id` is the id for a image and label pair in the batch.\n",
    "\n",
    "Ask yourself \"What are all possible labels?\", \"What is the range of values for the image data?\", \"Are the labels in order or random?\".  Answers to questions like these will help you preprocess the data and end up with better predictions."
   ]
  },
  {
   "cell_type": "code",
   "execution_count": 2,
   "metadata": {
    "collapsed": false
   },
   "outputs": [
    {
     "name": "stdout",
     "output_type": "stream",
     "text": [
      "\n",
      "Stats of batch 5:\n",
      "Samples: 10000\n",
      "Label Counts: {0: 1014, 1: 1014, 2: 952, 3: 1016, 4: 997, 5: 1025, 6: 980, 7: 977, 8: 1003, 9: 1022}\n",
      "First 20 Labels: [1, 8, 5, 1, 5, 7, 4, 3, 8, 2, 7, 2, 0, 1, 5, 9, 6, 2, 0, 8]\n",
      "\n",
      "Example of Image 6:\n",
      "Image - Min Value: 12 Max Value: 188\n",
      "Image - Shape: (32, 32, 3)\n",
      "Label - Label Id: 4 Name: deer\n"
     ]
    },
    {
     "data": {
      "image/png": "[encoded data removed]",
      "text/plain": [
       "<matplotlib.figure.Figure at 0x7f8868d2d5c0>"
      ]
     },
     "metadata": {
      "image/png": {
       "height": 250,
       "width": 253
      }
     },
     "output_type": "display_data"
    }
   ],
   "source": [
    "%matplotlib inline\n",
    "%config InlineBackend.figure_format = 'retina'\n",
    "\n",
    "import helper\n",
    "import numpy as np\n",
    "\n",
    "# Explore the dataset\n",
    "batch_id = 5\n",
    "sample_id = 6\n",
    "helper.display_stats(cifar10_dataset_folder_path, batch_id, sample_id)"
   ]
  },
  {
   "cell_type": "markdown",
   "metadata": {},
   "source": [
    "## Implement Preprocess Functions\n",
    "### Normalize\n",
    "In the cell below, implement the `normalize` function to take in image data, `x`, and return it as a normalized Numpy array. The values should be in the range of 0 to 1, inclusive.  The return object should be the same shape as `x`."
   ]
  },
  {
   "cell_type": "code",
   "execution_count": 3,
   "metadata": {
    "collapsed": false
   },
   "outputs": [
    {
     "name": "stdout",
     "output_type": "stream",
     "text": [
      "Tests Passed\n"
     ]
    }
   ],
   "source": [
    "def normalize(x):\n",
    "    \"\"\"\n",
    "    Normalize a list of sample image data in the range of 0 to 1\n",
    "    : x: List of image data.  The image shape is (32, 32, 3)\n",
    "    : return: Numpy array of normalize data\n",
    "    \"\"\"\n",
    "    return x/255\n",
    "\n",
    "\n",
    "\"\"\"\n",
    "DON'T MODIFY ANYTHING IN THIS CELL THAT IS BELOW THIS LINE\n",
    "\"\"\"\n",
    "tests.test_normalize(normalize)"
   ]
  },
  {
   "cell_type": "markdown",
   "metadata": {},
   "source": [
    "### One-hot encode\n",
    "Just like the previous code cell, you'll be implementing a function for preprocessing.  This time, you'll implement the `one_hot_encode` function. The input, `x`, are a list of labels.  Implement the function to return the list of labels as One-Hot encoded Numpy array.  The possible values for labels are 0 to 9. The one-hot encoding function should return the same encoding for each value between each call to `one_hot_encode`.  Make sure to save the map of encodings outside the function.\n",
    "\n",
    "Hint: Don't reinvent the wheel."
   ]
  },
  {
   "cell_type": "code",
   "execution_count": 4,
   "metadata": {
    "collapsed": false
   },
   "outputs": [
    {
     "name": "stdout",
     "output_type": "stream",
     "text": [
      "Tests Passed\n"
     ]
    }
   ],
   "source": [
    "def one_hot_encode(x):\n",
    "    \"\"\"\n",
    "    One hot encode a list of sample labels. Return a one-hot encoded vector for each label.\n",
    "    : x: List of sample Labels\n",
    "    : return: Numpy array of one-hot encoded labels\n",
    "    \"\"\"\n",
    "    m = np.zeros([len(x), 10], int)\n",
    "    for i in range(len(x)):\n",
    "        m[i, x[i]] = 1\n",
    "    return m\n",
    "\n",
    "\n",
    "\"\"\"\n",
    "DON'T MODIFY ANYTHING IN THIS CELL THAT IS BELOW THIS LINE\n",
    "\"\"\"\n",
    "tests.test_one_hot_encode(one_hot_encode)"
   ]
  },
  {
   "cell_type": "markdown",
   "metadata": {},
   "source": [
    "### Randomize Data\n",
    "As you saw from exploring the data above, the order of the samples are randomized.  It doesn't hurt to randomize it again, but you don't need to for this dataset."
   ]
  },
  {
   "cell_type": "markdown",
   "metadata": {},
   "source": [
    "## Preprocess all the data and save it\n",
    "Running the code cell below will preprocess all the CIFAR-10 data and save it to file. The code below also uses 10% of the training data for validation."
   ]
  },
  {
   "cell_type": "code",
   "execution_count": 5,
   "metadata": {
    "collapsed": false
   },
   "outputs": [],
   "source": [
    "\"\"\"\n",
    "DON'T MODIFY ANYTHING IN THIS CELL\n",
    "\"\"\"\n",
    "# Preprocess Training, Validation, and Testing Data\n",
    "helper.preprocess_and_save_data(cifar10_dataset_folder_path, normalize, one_hot_encode)"
   ]
  },
  {
   "cell_type": "markdown",
   "metadata": {},
   "source": [
    "# Check Point\n",
    "This is your first checkpoint.  If you ever decide to come back to this notebook or have to restart the notebook, you can start from here.  The preprocessed data has been saved to disk."
   ]
  },
  {
   "cell_type": "code",
   "execution_count": 6,
   "metadata": {
    "collapsed": true
   },
   "outputs": [],
   "source": [
    "\"\"\"\n",
    "DON'T MODIFY ANYTHING IN THIS CELL\n",
    "\"\"\"\n",
    "import pickle\n",
    "import problem_unittests as tests\n",
    "import helper\n",
    "\n",
    "# Load the Preprocessed Validation data\n",
    "valid_features, valid_labels = pickle.load(open('preprocess_validation.p', mode='rb'))"
   ]
  },
  {
   "cell_type": "markdown",
   "metadata": {},
   "source": [
    "## Build the network\n",
    "For the neural network, you'll build each layer into a function.  Most of the code you've seen has been outside of functions. To test your code more thoroughly, we require that you put each layer in a function.  This allows us to give you better feedback and test for simple mistakes using our unittests before you submit your project.\n",
    "\n",
    ">**Note:** If you're finding it hard to dedicate enough time for this course each week, we've provided a small shortcut to this part of the project. In the next couple of problems, you'll have the option to use classes from the [TensorFlow Layers](https://www.tensorflow.org/api_docs/python/tf/layers) or [TensorFlow Layers (contrib)](https://www.tensorflow.org/api_guides/python/contrib.layers) packages to build each layer, except the layers you build in the \"Convolutional and Max Pooling Layer\" section.  TF Layers is similar to Keras's and TFLearn's abstraction to layers, so it's easy to pickup.\n",
    "\n",
    ">However, if you would like to get the most out of this course, try to solve all the problems _without_ using anything from the TF Layers packages. You **can** still use classes from other packages that happen to have the same name as ones you find in TF Layers! For example, instead of using the TF Layers version of the `conv2d` class, [tf.layers.conv2d](https://www.tensorflow.org/api_docs/python/tf/layers/conv2d), you would want to use the TF Neural Network version of `conv2d`, [tf.nn.conv2d](https://www.tensorflow.org/api_docs/python/tf/nn/conv2d). \n",
    "\n",
    "Let's begin!\n",
    "\n",
    "### Input\n",
    "The neural network needs to read the image data, one-hot encoded labels, and dropout keep probability. Implement the following functions\n",
    "* Implement `neural_net_image_input`\n",
    " * Return a [TF Placeholder](https://www.tensorflow.org/api_docs/python/tf/placeholder)\n",
    " * Set the shape using `image_shape` with batch size set to `None`.\n",
    " * Name the TensorFlow placeholder \"x\" using the TensorFlow `name` parameter in the [TF Placeholder](https://www.tensorflow.org/api_docs/python/tf/placeholder).\n",
    "* Implement `neural_net_label_input`\n",
    " * Return a [TF Placeholder](https://www.tensorflow.org/api_docs/python/tf/placeholder)\n",
    " * Set the shape using `n_classes` with batch size set to `None`.\n",
    " * Name the TensorFlow placeholder \"y\" using the TensorFlow `name` parameter in the [TF Placeholder](https://www.tensorflow.org/api_docs/python/tf/placeholder).\n",
    "* Implement `neural_net_keep_prob_input`\n",
    " * Return a [TF Placeholder](https://www.tensorflow.org/api_docs/python/tf/placeholder) for dropout keep probability.\n",
    " * Name the TensorFlow placeholder \"keep_prob\" using the TensorFlow `name` parameter in the [TF Placeholder](https://www.tensorflow.org/api_docs/python/tf/placeholder).\n",
    "\n",
    "These names will be used at the end of the project to load your saved model.\n",
    "\n",
    "Note: `None` for shapes in TensorFlow allow for a dynamic size."
   ]
  },
  {
   "cell_type": "code",
   "execution_count": 7,
   "metadata": {
    "collapsed": false
   },
   "outputs": [
    {
     "name": "stdout",
     "output_type": "stream",
     "text": [
      "Image Input Tests Passed.\n",
      "Label Input Tests Passed.\n",
      "Keep Prob Tests Passed.\n"
     ]
    }
   ],
   "source": [
    "import tensorflow as tf\n",
    "\n",
    "def neural_net_image_input(image_shape):\n",
    "    \"\"\"\n",
    "    Return a Tensor for a bach of image input\n",
    "    : image_shape: Shape of the images\n",
    "    : return: Tensor for image input.\n",
    "    \"\"\"\n",
    "    return tf.placeholder(tf.float32, [None, image_shape[0], image_shape[1], image_shape[2]], name='x')\n",
    "\n",
    "\n",
    "def neural_net_label_input(n_classes):\n",
    "    \"\"\"\n",
    "    Return a Tensor for a batch of label input\n",
    "    : n_classes: Number of classes\n",
    "    : return: Tensor for label input.\n",
    "    \"\"\"\n",
    "    return tf.placeholder(tf.float32, [None, n_classes], name='y')\n",
    "\n",
    "\n",
    "def neural_net_keep_prob_input():\n",
    "    \"\"\"\n",
    "    Return a Tensor for keep probability\n",
    "    : return: Tensor for keep probability.\n",
    "    \"\"\"\n",
    "    return tf.placeholder(tf.float32, name='keep_prob')\n",
    "\n",
    "\n",
    "\"\"\"\n",
    "DON'T MODIFY ANYTHING IN THIS CELL THAT IS BELOW THIS LINE\n",
    "\"\"\"\n",
    "tf.reset_default_graph()\n",
    "tests.test_nn_image_inputs(neural_net_image_input)\n",
    "tests.test_nn_label_inputs(neural_net_label_input)\n",
    "tests.test_nn_keep_prob_inputs(neural_net_keep_prob_input)"
   ]
  },
  {
   "cell_type": "markdown",
   "metadata": {},
   "source": [
    "### Convolution and Max Pooling Layer\n",
    "Convolution layers have a lot of success with images. For this code cell, you should implement the function `conv2d_maxpool` to apply convolution then max pooling:\n",
    "* Create the weight and bias using `conv_ksize`, `conv_num_outputs` and the shape of `x_tensor`.\n",
    "* Apply a convolution to `x_tensor` using weight and `conv_strides`.\n",
    " * We recommend you use same padding, but you're welcome to use any padding.\n",
    "* Add bias\n",
    "* Add a nonlinear activation to the convolution.\n",
    "* Apply Max Pooling using `pool_ksize` and `pool_strides`.\n",
    " * We recommend you use same padding, but you're welcome to use any padding.\n",
    "\n",
    "**Note:** You **can't** use [TensorFlow Layers](https://www.tensorflow.org/api_docs/python/tf/layers) or [TensorFlow Layers (contrib)](https://www.tensorflow.org/api_guides/python/contrib.layers) for **this** layer, but you can still use TensorFlow's [Neural Network](https://www.tensorflow.org/api_docs/python/tf/nn) package. You may still use the shortcut option for all the **other** layers."
   ]
  },
  {
   "cell_type": "code",
   "execution_count": 8,
   "metadata": {
    "collapsed": false
   },
   "outputs": [
    {
     "name": "stdout",
     "output_type": "stream",
     "text": [
      "Tests Passed\n"
     ]
    }
   ],
   "source": [
    "def conv2d_maxpool(x_tensor, conv_num_outputs, conv_ksize, conv_strides, pool_ksize, pool_strides):\n",
    "    \"\"\"\n",
    "    Apply convolution then max pooling to x_tensor\n",
    "    :param x_tensor: TensorFlow Tensor\n",
    "    :param conv_num_outputs: Number of outputs for the convolutional layer\n",
    "    :param conv_ksize: kernal size 2-D Tuple for the convolutional layer\n",
    "    :param conv_strides: Stride 2-D Tuple for convolution\n",
    "    :param pool_ksize: kernal size 2-D Tuple for pool\n",
    "    :param pool_strides: Stride 2-D Tuple for pool\n",
    "    : return: A tensor that represents convolution and max pooling of x_tensor\n",
    "    \"\"\"\n",
    "    s = [conv_ksize[0], conv_ksize[1], x_tensor.shape[3].value, conv_num_outputs]\n",
    "    weights = tf.Variable(tf.random_normal(shape=s, stddev=0.1))\n",
    "    b = tf.Variable(tf.random_normal([conv_num_outputs], stddev=0.1))\n",
    "    out = tf.nn.conv2d(x_tensor, weights, strides=[1, conv_strides[0], conv_strides[1], 1], padding='SAME')\n",
    "    out = tf.nn.bias_add(out, b)\n",
    "    out = tf.nn.relu(out)\n",
    "    out = tf.nn.max_pool(out, ksize=[1, pool_ksize[0], pool_ksize[1], 1], strides=[1, pool_strides[0], pool_strides[1], 1], padding='SAME')\n",
    "    return out\n",
    "\n",
    "\n",
    "\"\"\"\n",
    "DON'T MODIFY ANYTHING IN THIS CELL THAT IS BELOW THIS LINE\n",
    "\"\"\"\n",
    "tests.test_con_pool(conv2d_maxpool)"
   ]
  },
  {
   "cell_type": "markdown",
   "metadata": {},
   "source": [
    "### Flatten Layer\n",
    "Implement the `flatten` function to change the dimension of `x_tensor` from a 4-D tensor to a 2-D tensor.  The output should be the shape (*Batch Size*, *Flattened Image Size*). Shortcut option: you can use classes from the [TensorFlow Layers](https://www.tensorflow.org/api_docs/python/tf/layers) or [TensorFlow Layers (contrib)](https://www.tensorflow.org/api_guides/python/contrib.layers) packages for this layer. For more of a challenge, only use other TensorFlow packages."
   ]
  },
  {
   "cell_type": "code",
   "execution_count": 9,
   "metadata": {
    "collapsed": false
   },
   "outputs": [
    {
     "name": "stdout",
     "output_type": "stream",
     "text": [
      "Tests Passed\n"
     ]
    }
   ],
   "source": [
    "def flatten(x_tensor):\n",
    "    \"\"\"\n",
    "    Flatten x_tensor to (Batch Size, Flattened Image Size)\n",
    "    : x_tensor: A tensor of size (Batch Size, ...), where ... are the image dimensions.\n",
    "    : return: A tensor of size (Batch Size, Flattened Image Size).\n",
    "    \"\"\"\n",
    "    old_shape = x_tensor.get_shape().as_list()\n",
    "    new_shape = [-1, old_shape[1] * old_shape[2] * old_shape[3]]\n",
    "    return tf.reshape(x_tensor, new_shape)\n",
    "\n",
    "\n",
    "\"\"\"\n",
    "DON'T MODIFY ANYTHING IN THIS CELL THAT IS BELOW THIS LINE\n",
    "\"\"\"\n",
    "tests.test_flatten(flatten)"
   ]
  },
  {
   "cell_type": "markdown",
   "metadata": {},
   "source": [
    "### Fully-Connected Layer\n",
    "Implement the `fully_conn` function to apply a fully connected layer to `x_tensor` with the shape (*Batch Size*, *num_outputs*). Shortcut option: you can use classes from the [TensorFlow Layers](https://www.tensorflow.org/api_docs/python/tf/layers) or [TensorFlow Layers (contrib)](https://www.tensorflow.org/api_guides/python/contrib.layers) packages for this layer. For more of a challenge, only use other TensorFlow packages."
   ]
  },
  {
   "cell_type": "code",
   "execution_count": 10,
   "metadata": {
    "collapsed": false
   },
   "outputs": [
    {
     "name": "stdout",
     "output_type": "stream",
     "text": [
      "Tests Passed\n"
     ]
    }
   ],
   "source": [
    "def fully_conn(x_tensor, num_outputs):\n",
    "    \"\"\"\n",
    "    Apply a fully connected layer to x_tensor using weight and bias\n",
    "    : x_tensor: A 2-D tensor where the first dimension is batch size.\n",
    "    : num_outputs: The number of output that the new tensor should be.\n",
    "    : return: A 2-D tensor where the second dimension is num_outputs.\n",
    "    \"\"\"\n",
    "    w = tf.Variable(tf.random_normal([x_tensor.shape[1].value, num_outputs], stddev=0.1))\n",
    "    b = tf.Variable(tf.random_normal([num_outputs], stddev=0.1))\n",
    "    out = tf.add(tf.matmul(x_tensor, w), b)\n",
    "    out = tf.nn.relu(out)\n",
    "    return out\n",
    "\n",
    "\n",
    "\"\"\"\n",
    "DON'T MODIFY ANYTHING IN THIS CELL THAT IS BELOW THIS LINE\n",
    "\"\"\"\n",
    "tests.test_fully_conn(fully_conn)"
   ]
  },
  {
   "cell_type": "markdown",
   "metadata": {},
   "source": [
    "### Output Layer\n",
    "Implement the `output` function to apply a fully connected layer to `x_tensor` with the shape (*Batch Size*, *num_outputs*). Shortcut option: you can use classes from the [TensorFlow Layers](https://www.tensorflow.org/api_docs/python/tf/layers) or [TensorFlow Layers (contrib)](https://www.tensorflow.org/api_guides/python/contrib.layers) packages for this layer. For more of a challenge, only use other TensorFlow packages.\n",
    "\n",
    "**Note:** Activation, softmax, or cross entropy should **not** be applied to this."
   ]
  },
  {
   "cell_type": "code",
   "execution_count": 11,
   "metadata": {
    "collapsed": false
   },
   "outputs": [
    {
     "name": "stdout",
     "output_type": "stream",
     "text": [
      "Tests Passed\n"
     ]
    }
   ],
   "source": [
    "def output(x_tensor, num_outputs):\n",
    "    \"\"\"\n",
    "    Apply a output layer to x_tensor using weight and bias\n",
    "    : x_tensor: A 2-D tensor where the first dimension is batch size.\n",
    "    : num_outputs: The number of output that the new tensor should be.\n",
    "    : return: A 2-D tensor where the second dimension is num_outputs.\n",
    "    \"\"\"\n",
    "    w = tf.Variable(tf.random_normal([x_tensor.shape[1].value, num_outputs], stddev=0.1))\n",
    "    b = tf.Variable(tf.random_normal([num_outputs], stddev=0.1))\n",
    "    out = tf.add(tf.matmul(x_tensor, w), b)\n",
    "    return out\n",
    "\n",
    "\n",
    "\"\"\"\n",
    "DON'T MODIFY ANYTHING IN THIS CELL THAT IS BELOW THIS LINE\n",
    "\"\"\"\n",
    "tests.test_output(output)"
   ]
  },
  {
   "cell_type": "markdown",
   "metadata": {},
   "source": [
    "### Create Convolutional Model\n",
    "Implement the function `conv_net` to create a convolutional neural network model. The function takes in a batch of images, `x`, and outputs logits.  Use the layers you created above to create this model:\n",
    "\n",
    "* Apply 1, 2, or 3 Convolution and Max Pool layers\n",
    "* Apply a Flatten Layer\n",
    "* Apply 1, 2, or 3 Fully Connected Layers\n",
    "* Apply an Output Layer\n",
    "* Return the output\n",
    "* Apply [TensorFlow's Dropout](https://www.tensorflow.org/api_docs/python/tf/nn/dropout) to one or more layers in the model using `keep_prob`. "
   ]
  },
  {
   "cell_type": "code",
   "execution_count": 12,
   "metadata": {
    "collapsed": false
   },
   "outputs": [
    {
     "name": "stdout",
     "output_type": "stream",
     "text": [
      "Neural Network Built!\n"
     ]
    }
   ],
   "source": [
    "def conv_net(x, keep_prob):\n",
    "    \"\"\"\n",
    "    Create a convolutional neural network model\n",
    "    : x: Placeholder tensor that holds image data.\n",
    "    : keep_prob: Placeholder tensor that hold dropout keep probability.\n",
    "    : return: Tensor that represents logits\n",
    "    \"\"\"\n",
    "    out = conv2d_maxpool(x, 32, [3, 3], [1, 1], [2, 2], [1, 1])\n",
    "    out = tf.layers.dropout(out, keep_prob)\n",
    "    out = conv2d_maxpool(out, 64, [3, 3], [1, 1], [2, 2], [1, 1])\n",
    "    out = tf.layers.dropout(out, keep_prob)\n",
    "    out = conv2d_maxpool(out, 128, [3, 3], [1, 1], [2, 2], [1, 1])\n",
    "    out = tf.layers.dropout(out, keep_prob)\n",
    "\n",
    "    out = flatten(out)\n",
    "\n",
    "    out = fully_conn(out, 512)\n",
    "    out = tf.layers.dropout(out, keep_prob)\n",
    "    \n",
    "    out = output(out, 10)\n",
    "    \n",
    "    return out\n",
    "\n",
    "\n",
    "\"\"\"\n",
    "DON'T MODIFY ANYTHING IN THIS CELL THAT IS BELOW THIS LINE\n",
    "\"\"\"\n",
    "\n",
    "##############################\n",
    "## Build the Neural Network ##\n",
    "##############################\n",
    "\n",
    "# Remove previous weights, bias, inputs, etc..\n",
    "tf.reset_default_graph()\n",
    "\n",
    "# Inputs\n",
    "x = neural_net_image_input((32, 32, 3))\n",
    "y = neural_net_label_input(10)\n",
    "keep_prob = neural_net_keep_prob_input()\n",
    "\n",
    "# Model\n",
    "logits = conv_net(x, keep_prob)\n",
    "\n",
    "# Name logits Tensor, so that is can be loaded from disk after training\n",
    "logits = tf.identity(logits, name='logits')\n",
    "\n",
    "# Loss and Optimizer\n",
    "cost = tf.reduce_mean(tf.nn.softmax_cross_entropy_with_logits(logits=logits, labels=y))\n",
    "optimizer = tf.train.AdamOptimizer().minimize(cost)\n",
    "\n",
    "# Accuracy\n",
    "correct_pred = tf.equal(tf.argmax(logits, 1), tf.argmax(y, 1))\n",
    "accuracy = tf.reduce_mean(tf.cast(correct_pred, tf.float32), name='accuracy')\n",
    "\n",
    "tests.test_conv_net(conv_net)"
   ]
  },
  {
   "cell_type": "markdown",
   "metadata": {},
   "source": [
    "## Train the Neural Network\n",
    "### Single Optimization\n",
    "Implement the function `train_neural_network` to do a single optimization.  The optimization should use `optimizer` to optimize in `session` with a `feed_dict` of the following:\n",
    "* `x` for image input\n",
    "* `y` for labels\n",
    "* `keep_prob` for keep probability for dropout\n",
    "\n",
    "This function will be called for each batch, so `tf.global_variables_initializer()` has already been called.\n",
    "\n",
    "Note: Nothing needs to be returned. This function is only optimizing the neural network."
   ]
  },
  {
   "cell_type": "code",
   "execution_count": 13,
   "metadata": {
    "collapsed": false
   },
   "outputs": [
    {
     "name": "stdout",
     "output_type": "stream",
     "text": [
      "Tests Passed\n"
     ]
    }
   ],
   "source": [
    "def train_neural_network(session, optimizer, keep_probability, feature_batch, label_batch):\n",
    "    \"\"\"\n",
    "    Optimize the session on a batch of images and labels\n",
    "    : session: Current TensorFlow session\n",
    "    : optimizer: TensorFlow optimizer function\n",
    "    : keep_probability: keep probability\n",
    "    : feature_batch: Batch of Numpy image data\n",
    "    : label_batch: Batch of Numpy label data\n",
    "    \"\"\"\n",
    "    session.run(optimizer, feed_dict={y: label_batch, x: feature_batch, keep_prob: keep_probability})\n",
    "\n",
    "\n",
    "\"\"\"\n",
    "DON'T MODIFY ANYTHING IN THIS CELL THAT IS BELOW THIS LINE\n",
    "\"\"\"\n",
    "tests.test_train_nn(train_neural_network)"
   ]
  },
  {
   "cell_type": "markdown",
   "metadata": {},
   "source": [
    "### Show Stats\n",
    "Implement the function `print_stats` to print loss and validation accuracy.  Use the global variables `valid_features` and `valid_labels` to calculate validation accuracy.  Use a keep probability of `1.0` to calculate the loss and validation accuracy."
   ]
  },
  {
   "cell_type": "code",
   "execution_count": 14,
   "metadata": {
    "collapsed": false
   },
   "outputs": [],
   "source": [
    "def print_stats(session, feature_batch, label_batch, cost, accuracy):\n",
    "    \"\"\"\n",
    "    Print information about loss and validation accuracy\n",
    "    : session: Current TensorFlow session\n",
    "    : feature_batch: Batch of Numpy image data\n",
    "    : label_batch: Batch of Numpy label data\n",
    "    : cost: TensorFlow cost function\n",
    "    : accuracy: TensorFlow accuracy function\n",
    "    \"\"\"\n",
    "    loss = session.run(cost, feed_dict={x: feature_batch, y: label_batch, keep_prob: 1.})\n",
    "    valid_acc = sess.run(accuracy, feed_dict={x: valid_features, y: valid_labels, keep_prob: 1.})\n",
    "    print(\"Loss: {:>10.4f} Validation Accuracy: {:.6f}\".format(loss, valid_acc))"
   ]
  },
  {
   "cell_type": "markdown",
   "metadata": {},
   "source": [
    "### Hyperparameters\n",
    "Tune the following parameters:\n",
    "* Set `epochs` to the number of iterations until the network stops learning or start overfitting\n",
    "* Set `batch_size` to the highest number that your machine has memory for.  Most people set them to common sizes of memory:\n",
    " * 64\n",
    " * 128\n",
    " * 256\n",
    " * ...\n",
    "* Set `keep_probability` to the probability of keeping a node using dropout"
   ]
  },
  {
   "cell_type": "code",
   "execution_count": 15,
   "metadata": {
    "collapsed": true
   },
   "outputs": [],
   "source": [
    "epochs = 60\n",
    "batch_size = 256\n",
    "keep_probability = .5"
   ]
  },
  {
   "cell_type": "markdown",
   "metadata": {},
   "source": [
    "### Train on a Single CIFAR-10 Batch\n",
    "Instead of training the neural network on all the CIFAR-10 batches of data, let's use a single batch. This should save time while you iterate on the model to get a better accuracy.  Once the final validation accuracy is 50% or greater, run the model on all the data in the next section."
   ]
  },
  {
   "cell_type": "code",
   "execution_count": 16,
   "metadata": {
    "collapsed": false
   },
   "outputs": [
    {
     "name": "stdout",
     "output_type": "stream",
     "text": [
      "Checking the Training on a Single Batch...\n",
      "Epoch  1, CIFAR-10 Batch 1:  Loss:     1.9059 Validation Accuracy: 0.296000\n",
      "Epoch  2, CIFAR-10 Batch 1:  Loss:     1.1834 Validation Accuracy: 0.444600\n",
      "Epoch  3, CIFAR-10 Batch 1:  Loss:     0.6531 Validation Accuracy: 0.438000\n",
      "Epoch  4, CIFAR-10 Batch 1:  Loss:     0.3103 Validation Accuracy: 0.470200\n",
      "Epoch  5, CIFAR-10 Batch 1:  Loss:     0.2000 Validation Accuracy: 0.471400\n",
      "Epoch  6, CIFAR-10 Batch 1:  Loss:     0.1785 Validation Accuracy: 0.487800\n",
      "Epoch  7, CIFAR-10 Batch 1:  Loss:     0.1159 Validation Accuracy: 0.463200\n",
      "Epoch  8, CIFAR-10 Batch 1:  Loss:     0.0674 Validation Accuracy: 0.478600\n",
      "Epoch  9, CIFAR-10 Batch 1:  Loss:     0.0362 Validation Accuracy: 0.495200\n",
      "Epoch 10, CIFAR-10 Batch 1:  Loss:     0.0343 Validation Accuracy: 0.469800\n",
      "Epoch 11, CIFAR-10 Batch 1:  Loss:     0.0373 Validation Accuracy: 0.471200\n",
      "Epoch 12, CIFAR-10 Batch 1:  Loss:     0.0308 Validation Accuracy: 0.499200\n",
      "Epoch 13, CIFAR-10 Batch 1:  Loss:     0.0191 Validation Accuracy: 0.503800\n",
      "Epoch 14, CIFAR-10 Batch 1:  Loss:     0.0147 Validation Accuracy: 0.490400\n",
      "Epoch 15, CIFAR-10 Batch 1:  Loss:     0.0094 Validation Accuracy: 0.500400\n",
      "Epoch 16, CIFAR-10 Batch 1:  Loss:     0.0077 Validation Accuracy: 0.502000\n",
      "Epoch 17, CIFAR-10 Batch 1:  Loss:     0.0039 Validation Accuracy: 0.500000\n",
      "Epoch 18, CIFAR-10 Batch 1:  Loss:     0.0022 Validation Accuracy: 0.518000\n",
      "Epoch 19, CIFAR-10 Batch 1:  Loss:     0.0010 Validation Accuracy: 0.520000\n",
      "Epoch 20, CIFAR-10 Batch 1:  Loss:     0.0024 Validation Accuracy: 0.512000\n",
      "Epoch 21, CIFAR-10 Batch 1:  Loss:     0.0013 Validation Accuracy: 0.514200\n",
      "Epoch 22, CIFAR-10 Batch 1:  Loss:     0.0035 Validation Accuracy: 0.505200\n",
      "Epoch 23, CIFAR-10 Batch 1:  Loss:     0.0035 Validation Accuracy: 0.496600\n",
      "Epoch 24, CIFAR-10 Batch 1:  Loss:     0.0005 Validation Accuracy: 0.527600\n",
      "Epoch 25, CIFAR-10 Batch 1:  Loss:     0.0007 Validation Accuracy: 0.528600\n",
      "Epoch 26, CIFAR-10 Batch 1:  Loss:     0.0006 Validation Accuracy: 0.529400\n",
      "Epoch 27, CIFAR-10 Batch 1:  Loss:     0.0005 Validation Accuracy: 0.526600\n",
      "Epoch 28, CIFAR-10 Batch 1:  Loss:     0.0004 Validation Accuracy: 0.530200\n",
      "Epoch 29, CIFAR-10 Batch 1:  Loss:     0.0003 Validation Accuracy: 0.530000\n",
      "Epoch 30, CIFAR-10 Batch 1:  Loss:     0.0002 Validation Accuracy: 0.532600\n",
      "Epoch 31, CIFAR-10 Batch 1:  Loss:     0.0002 Validation Accuracy: 0.535600\n",
      "Epoch 32, CIFAR-10 Batch 1:  Loss:     0.0002 Validation Accuracy: 0.535400\n",
      "Epoch 33, CIFAR-10 Batch 1:  Loss:     0.0001 Validation Accuracy: 0.535600\n",
      "Epoch 34, CIFAR-10 Batch 1:  Loss:     0.0001 Validation Accuracy: 0.534600\n",
      "Epoch 35, CIFAR-10 Batch 1:  Loss:     0.0001 Validation Accuracy: 0.534400\n",
      "Epoch 36, CIFAR-10 Batch 1:  Loss:     0.0001 Validation Accuracy: 0.533800\n",
      "Epoch 37, CIFAR-10 Batch 1:  Loss:     0.0001 Validation Accuracy: 0.535200\n",
      "Epoch 38, CIFAR-10 Batch 1:  Loss:     0.0001 Validation Accuracy: 0.534800\n",
      "Epoch 39, CIFAR-10 Batch 1:  Loss:     0.0001 Validation Accuracy: 0.534800\n",
      "Epoch 40, CIFAR-10 Batch 1:  Loss:     0.0001 Validation Accuracy: 0.534800\n",
      "Epoch 41, CIFAR-10 Batch 1:  Loss:     0.0001 Validation Accuracy: 0.534600\n",
      "Epoch 42, CIFAR-10 Batch 1:  Loss:     0.0001 Validation Accuracy: 0.535200\n",
      "Epoch 43, CIFAR-10 Batch 1:  Loss:     0.0001 Validation Accuracy: 0.535000\n",
      "Epoch 44, CIFAR-10 Batch 1:  Loss:     0.0001 Validation Accuracy: 0.535600\n",
      "Epoch 45, CIFAR-10 Batch 1:  Loss:     0.0001 Validation Accuracy: 0.536800\n",
      "Epoch 46, CIFAR-10 Batch 1:  Loss:     0.0001 Validation Accuracy: 0.536400\n",
      "Epoch 47, CIFAR-10 Batch 1:  Loss:     0.0001 Validation Accuracy: 0.536400\n",
      "Epoch 48, CIFAR-10 Batch 1:  Loss:     0.0001 Validation Accuracy: 0.537600\n",
      "Epoch 49, CIFAR-10 Batch 1:  Loss:     0.0001 Validation Accuracy: 0.538200\n",
      "Epoch 50, CIFAR-10 Batch 1:  Loss:     0.0001 Validation Accuracy: 0.537600\n",
      "Epoch 51, CIFAR-10 Batch 1:  Loss:     0.0001 Validation Accuracy: 0.537600\n",
      "Epoch 52, CIFAR-10 Batch 1:  Loss:     0.0001 Validation Accuracy: 0.537800\n",
      "Epoch 53, CIFAR-10 Batch 1:  Loss:     0.0000 Validation Accuracy: 0.537800\n",
      "Epoch 54, CIFAR-10 Batch 1:  Loss:     0.0000 Validation Accuracy: 0.538400\n",
      "Epoch 55, CIFAR-10 Batch 1:  Loss:     0.0000 Validation Accuracy: 0.538000\n",
      "Epoch 56, CIFAR-10 Batch 1:  Loss:     0.0000 Validation Accuracy: 0.538200\n",
      "Epoch 57, CIFAR-10 Batch 1:  Loss:     0.0000 Validation Accuracy: 0.537400\n",
      "Epoch 58, CIFAR-10 Batch 1:  Loss:     0.0000 Validation Accuracy: 0.536800\n",
      "Epoch 59, CIFAR-10 Batch 1:  Loss:     0.0000 Validation Accuracy: 0.537000\n",
      "Epoch 60, CIFAR-10 Batch 1:  Loss:     0.0000 Validation Accuracy: 0.536000\n"
     ]
    }
   ],
   "source": [
    "\"\"\"\n",
    "DON'T MODIFY ANYTHING IN THIS CELL\n",
    "\"\"\"\n",
    "print('Checking the Training on a Single Batch...')\n",
    "with tf.Session() as sess:\n",
    "    # Initializing the variables\n",
    "    sess.run(tf.global_variables_initializer())\n",
    "    \n",
    "    # Training cycle\n",
    "    for epoch in range(epochs):\n",
    "        batch_i = 1\n",
    "        for batch_features, batch_labels in helper.load_preprocess_training_batch(batch_i, batch_size):\n",
    "            train_neural_network(sess, optimizer, keep_probability, batch_features, batch_labels)\n",
    "        print('Epoch {:>2}, CIFAR-10 Batch {}:  '.format(epoch + 1, batch_i), end='')\n",
    "        print_stats(sess, batch_features, batch_labels, cost, accuracy)"
   ]
  },
  {
   "cell_type": "markdown",
   "metadata": {},
   "source": [
    "### Fully Train the Model\n",
    "Now that you got a good accuracy with a single CIFAR-10 batch, try it with all five batches."
   ]
  },
  {
   "cell_type": "code",
   "execution_count": 17,
   "metadata": {
    "collapsed": false
   },
   "outputs": [
    {
     "name": "stdout",
     "output_type": "stream",
     "text": [
      "Training...\n",
      "Epoch  1, CIFAR-10 Batch 1:  Loss:     2.1050 Validation Accuracy: 0.286000\n",
      "Epoch  1, CIFAR-10 Batch 2:  Loss:     1.5652 Validation Accuracy: 0.411400\n",
      "Epoch  1, CIFAR-10 Batch 3:  Loss:     1.4343 Validation Accuracy: 0.456600\n",
      "Epoch  1, CIFAR-10 Batch 4:  Loss:     1.4302 Validation Accuracy: 0.475400\n",
      "Epoch  1, CIFAR-10 Batch 5:  Loss:     1.2961 Validation Accuracy: 0.496800\n",
      "Epoch  2, CIFAR-10 Batch 1:  Loss:     1.4160 Validation Accuracy: 0.519800\n",
      "Epoch  2, CIFAR-10 Batch 2:  Loss:     0.9960 Validation Accuracy: 0.504800\n",
      "Epoch  2, CIFAR-10 Batch 3:  Loss:     0.8904 Validation Accuracy: 0.515800\n",
      "Epoch  2, CIFAR-10 Batch 4:  Loss:     0.9284 Validation Accuracy: 0.548400\n",
      "Epoch  2, CIFAR-10 Batch 5:  Loss:     0.6902 Validation Accuracy: 0.565400\n",
      "Epoch  3, CIFAR-10 Batch 1:  Loss:     0.8522 Validation Accuracy: 0.559400\n",
      "Epoch  3, CIFAR-10 Batch 2:  Loss:     0.6637 Validation Accuracy: 0.548600\n",
      "Epoch  3, CIFAR-10 Batch 3:  Loss:     0.4981 Validation Accuracy: 0.564600\n",
      "Epoch  3, CIFAR-10 Batch 4:  Loss:     0.5685 Validation Accuracy: 0.570800\n",
      "Epoch  3, CIFAR-10 Batch 5:  Loss:     0.3093 Validation Accuracy: 0.591000\n",
      "Epoch  4, CIFAR-10 Batch 1:  Loss:     0.4943 Validation Accuracy: 0.564400\n",
      "Epoch  4, CIFAR-10 Batch 2:  Loss:     0.3918 Validation Accuracy: 0.572600\n",
      "Epoch  4, CIFAR-10 Batch 3:  Loss:     0.2700 Validation Accuracy: 0.557800\n",
      "Epoch  4, CIFAR-10 Batch 4:  Loss:     0.3119 Validation Accuracy: 0.596800\n",
      "Epoch  4, CIFAR-10 Batch 5:  Loss:     0.1957 Validation Accuracy: 0.594000\n",
      "Epoch  5, CIFAR-10 Batch 1:  Loss:     0.2911 Validation Accuracy: 0.579800\n",
      "Epoch  5, CIFAR-10 Batch 2:  Loss:     0.2568 Validation Accuracy: 0.598000\n",
      "Epoch  5, CIFAR-10 Batch 3:  Loss:     0.1630 Validation Accuracy: 0.585800\n",
      "Epoch  5, CIFAR-10 Batch 4:  Loss:     0.1619 Validation Accuracy: 0.603200\n",
      "Epoch  5, CIFAR-10 Batch 5:  Loss:     0.1852 Validation Accuracy: 0.582600\n",
      "Epoch  6, CIFAR-10 Batch 1:  Loss:     0.2081 Validation Accuracy: 0.601000\n",
      "Epoch  6, CIFAR-10 Batch 2:  Loss:     0.1248 Validation Accuracy: 0.606400\n",
      "Epoch  6, CIFAR-10 Batch 3:  Loss:     0.1018 Validation Accuracy: 0.603600\n",
      "Epoch  6, CIFAR-10 Batch 4:  Loss:     0.0847 Validation Accuracy: 0.563000\n",
      "Epoch  6, CIFAR-10 Batch 5:  Loss:     0.0688 Validation Accuracy: 0.588400\n",
      "Epoch  7, CIFAR-10 Batch 1:  Loss:     0.1652 Validation Accuracy: 0.597200\n",
      "Epoch  7, CIFAR-10 Batch 2:  Loss:     0.0676 Validation Accuracy: 0.606600\n",
      "Epoch  7, CIFAR-10 Batch 3:  Loss:     0.0523 Validation Accuracy: 0.600800\n",
      "Epoch  7, CIFAR-10 Batch 4:  Loss:     0.0457 Validation Accuracy: 0.545800\n",
      "Epoch  7, CIFAR-10 Batch 5:  Loss:     0.0559 Validation Accuracy: 0.599400\n",
      "Epoch  8, CIFAR-10 Batch 1:  Loss:     0.0670 Validation Accuracy: 0.604400\n",
      "Epoch  8, CIFAR-10 Batch 2:  Loss:     0.0458 Validation Accuracy: 0.584800\n",
      "Epoch  8, CIFAR-10 Batch 3:  Loss:     0.0428 Validation Accuracy: 0.589800\n",
      "Epoch  8, CIFAR-10 Batch 4:  Loss:     0.0524 Validation Accuracy: 0.608400\n",
      "Epoch  8, CIFAR-10 Batch 5:  Loss:     0.0412 Validation Accuracy: 0.607600\n",
      "Epoch  9, CIFAR-10 Batch 1:  Loss:     0.0278 Validation Accuracy: 0.591000\n",
      "Epoch  9, CIFAR-10 Batch 2:  Loss:     0.0240 Validation Accuracy: 0.558200\n",
      "Epoch  9, CIFAR-10 Batch 3:  Loss:     0.0202 Validation Accuracy: 0.617600\n",
      "Epoch  9, CIFAR-10 Batch 4:  Loss:     0.0484 Validation Accuracy: 0.610800\n",
      "Epoch  9, CIFAR-10 Batch 5:  Loss:     0.0302 Validation Accuracy: 0.601800\n",
      "Epoch 10, CIFAR-10 Batch 1:  Loss:     0.0264 Validation Accuracy: 0.617400\n",
      "Epoch 10, CIFAR-10 Batch 2:  Loss:     0.0166 Validation Accuracy: 0.585600\n",
      "Epoch 10, CIFAR-10 Batch 3:  Loss:     0.0143 Validation Accuracy: 0.601200\n",
      "Epoch 10, CIFAR-10 Batch 4:  Loss:     0.0305 Validation Accuracy: 0.586600\n",
      "Epoch 10, CIFAR-10 Batch 5:  Loss:     0.0108 Validation Accuracy: 0.592600\n",
      "Epoch 11, CIFAR-10 Batch 1:  Loss:     0.0155 Validation Accuracy: 0.578800\n",
      "Epoch 11, CIFAR-10 Batch 2:  Loss:     0.0075 Validation Accuracy: 0.569000\n",
      "Epoch 11, CIFAR-10 Batch 3:  Loss:     0.0129 Validation Accuracy: 0.601800\n",
      "Epoch 11, CIFAR-10 Batch 4:  Loss:     0.0181 Validation Accuracy: 0.596200\n",
      "Epoch 11, CIFAR-10 Batch 5:  Loss:     0.0044 Validation Accuracy: 0.618400\n",
      "Epoch 12, CIFAR-10 Batch 1:  Loss:     0.0119 Validation Accuracy: 0.615000\n",
      "Epoch 12, CIFAR-10 Batch 2:  Loss:     0.0044 Validation Accuracy: 0.599800\n",
      "Epoch 12, CIFAR-10 Batch 3:  Loss:     0.0087 Validation Accuracy: 0.601000\n",
      "Epoch 12, CIFAR-10 Batch 4:  Loss:     0.0186 Validation Accuracy: 0.587800\n",
      "Epoch 12, CIFAR-10 Batch 5:  Loss:     0.0060 Validation Accuracy: 0.608800\n",
      "Epoch 13, CIFAR-10 Batch 1:  Loss:     0.0049 Validation Accuracy: 0.627400\n",
      "Epoch 13, CIFAR-10 Batch 2:  Loss:     0.0036 Validation Accuracy: 0.568400\n",
      "Epoch 13, CIFAR-10 Batch 3:  Loss:     0.0042 Validation Accuracy: 0.594400\n",
      "Epoch 13, CIFAR-10 Batch 4:  Loss:     0.0125 Validation Accuracy: 0.570000\n",
      "Epoch 13, CIFAR-10 Batch 5:  Loss:     0.0094 Validation Accuracy: 0.614400\n",
      "Epoch 14, CIFAR-10 Batch 1:  Loss:     0.0037 Validation Accuracy: 0.621400\n",
      "Epoch 14, CIFAR-10 Batch 2:  Loss:     0.0016 Validation Accuracy: 0.594400\n",
      "Epoch 14, CIFAR-10 Batch 3:  Loss:     0.0013 Validation Accuracy: 0.605600\n",
      "Epoch 14, CIFAR-10 Batch 4:  Loss:     0.0022 Validation Accuracy: 0.573400\n",
      "Epoch 14, CIFAR-10 Batch 5:  Loss:     0.0039 Validation Accuracy: 0.613000\n",
      "Epoch 15, CIFAR-10 Batch 1:  Loss:     0.0063 Validation Accuracy: 0.610000\n",
      "Epoch 15, CIFAR-10 Batch 2:  Loss:     0.0030 Validation Accuracy: 0.615600\n",
      "Epoch 15, CIFAR-10 Batch 3:  Loss:     0.0015 Validation Accuracy: 0.609000\n",
      "Epoch 15, CIFAR-10 Batch 4:  Loss:     0.0036 Validation Accuracy: 0.623400\n",
      "Epoch 15, CIFAR-10 Batch 5:  Loss:     0.0033 Validation Accuracy: 0.613000\n",
      "Epoch 16, CIFAR-10 Batch 1:  Loss:     0.0066 Validation Accuracy: 0.598600\n",
      "Epoch 16, CIFAR-10 Batch 2:  Loss:     0.0035 Validation Accuracy: 0.597200\n",
      "Epoch 16, CIFAR-10 Batch 3:  Loss:     0.0004 Validation Accuracy: 0.611200\n",
      "Epoch 16, CIFAR-10 Batch 4:  Loss:     0.0008 Validation Accuracy: 0.615600\n",
      "Epoch 16, CIFAR-10 Batch 5:  Loss:     0.0019 Validation Accuracy: 0.612400\n",
      "Epoch 17, CIFAR-10 Batch 1:  Loss:     0.0020 Validation Accuracy: 0.631000\n",
      "Epoch 17, CIFAR-10 Batch 2:  Loss:     0.0023 Validation Accuracy: 0.616400\n",
      "Epoch 17, CIFAR-10 Batch 3:  Loss:     0.0012 Validation Accuracy: 0.624400\n",
      "Epoch 17, CIFAR-10 Batch 4:  Loss:     0.0013 Validation Accuracy: 0.624000\n",
      "Epoch 17, CIFAR-10 Batch 5:  Loss:     0.0027 Validation Accuracy: 0.607200\n",
      "Epoch 18, CIFAR-10 Batch 1:  Loss:     0.0035 Validation Accuracy: 0.622800\n",
      "Epoch 18, CIFAR-10 Batch 2:  Loss:     0.0012 Validation Accuracy: 0.625200\n",
      "Epoch 18, CIFAR-10 Batch 3:  Loss:     0.0009 Validation Accuracy: 0.620600\n",
      "Epoch 18, CIFAR-10 Batch 4:  Loss:     0.0020 Validation Accuracy: 0.637600\n",
      "Epoch 18, CIFAR-10 Batch 5:  Loss:     0.0027 Validation Accuracy: 0.603600\n",
      "Epoch 19, CIFAR-10 Batch 1:  Loss:     0.0029 Validation Accuracy: 0.599200\n",
      "Epoch 19, CIFAR-10 Batch 2:  Loss:     0.0020 Validation Accuracy: 0.623000\n",
      "Epoch 19, CIFAR-10 Batch 3:  Loss:     0.0002 Validation Accuracy: 0.620000\n",
      "Epoch 19, CIFAR-10 Batch 4:  Loss:     0.0012 Validation Accuracy: 0.635400\n",
      "Epoch 19, CIFAR-10 Batch 5:  Loss:     0.0011 Validation Accuracy: 0.603200\n",
      "Epoch 20, CIFAR-10 Batch 1:  Loss:     0.0006 Validation Accuracy: 0.620400\n",
      "Epoch 20, CIFAR-10 Batch 2:  Loss:     0.0004 Validation Accuracy: 0.630800\n",
      "Epoch 20, CIFAR-10 Batch 3:  Loss:     0.0005 Validation Accuracy: 0.610000\n",
      "Epoch 20, CIFAR-10 Batch 4:  Loss:     0.0008 Validation Accuracy: 0.638000\n",
      "Epoch 20, CIFAR-10 Batch 5:  Loss:     0.0008 Validation Accuracy: 0.603000\n",
      "Epoch 21, CIFAR-10 Batch 1:  Loss:     0.0006 Validation Accuracy: 0.618000\n",
      "Epoch 21, CIFAR-10 Batch 2:  Loss:     0.0004 Validation Accuracy: 0.635000\n",
      "Epoch 21, CIFAR-10 Batch 3:  Loss:     0.0003 Validation Accuracy: 0.603600\n",
      "Epoch 21, CIFAR-10 Batch 4:  Loss:     0.0007 Validation Accuracy: 0.633200\n",
      "Epoch 21, CIFAR-10 Batch 5:  Loss:     0.0006 Validation Accuracy: 0.608800\n",
      "Epoch 22, CIFAR-10 Batch 1:  Loss:     0.0006 Validation Accuracy: 0.626400\n",
      "Epoch 22, CIFAR-10 Batch 2:  Loss:     0.0006 Validation Accuracy: 0.637400\n",
      "Epoch 22, CIFAR-10 Batch 3:  Loss:     0.0001 Validation Accuracy: 0.632200\n",
      "Epoch 22, CIFAR-10 Batch 4:  Loss:     0.0006 Validation Accuracy: 0.634400\n",
      "Epoch 22, CIFAR-10 Batch 5:  Loss:     0.0006 Validation Accuracy: 0.605000\n",
      "Epoch 23, CIFAR-10 Batch 1:  Loss:     0.0006 Validation Accuracy: 0.633200\n",
      "Epoch 23, CIFAR-10 Batch 2:  Loss:     0.0003 Validation Accuracy: 0.636400\n",
      "Epoch 23, CIFAR-10 Batch 3:  Loss:     0.0002 Validation Accuracy: 0.628800\n",
      "Epoch 23, CIFAR-10 Batch 4:  Loss:     0.0008 Validation Accuracy: 0.619000\n",
      "Epoch 23, CIFAR-10 Batch 5:  Loss:     0.0010 Validation Accuracy: 0.611000\n",
      "Epoch 24, CIFAR-10 Batch 1:  Loss:     0.0012 Validation Accuracy: 0.628800\n",
      "Epoch 24, CIFAR-10 Batch 2:  Loss:     0.0003 Validation Accuracy: 0.630000\n",
      "Epoch 24, CIFAR-10 Batch 3:  Loss:     0.0004 Validation Accuracy: 0.625000\n",
      "Epoch 24, CIFAR-10 Batch 4:  Loss:     0.0007 Validation Accuracy: 0.618200\n",
      "Epoch 24, CIFAR-10 Batch 5:  Loss:     0.0006 Validation Accuracy: 0.607600\n",
      "Epoch 25, CIFAR-10 Batch 1:  Loss:     0.0003 Validation Accuracy: 0.617200\n",
      "Epoch 25, CIFAR-10 Batch 2:  Loss:     0.0003 Validation Accuracy: 0.632800\n",
      "Epoch 25, CIFAR-10 Batch 3:  Loss:     0.0003 Validation Accuracy: 0.621200\n",
      "Epoch 25, CIFAR-10 Batch 4:  Loss:     0.0008 Validation Accuracy: 0.624400\n",
      "Epoch 25, CIFAR-10 Batch 5:  Loss:     0.0011 Validation Accuracy: 0.608600\n",
      "Epoch 26, CIFAR-10 Batch 1:  Loss:     0.0002 Validation Accuracy: 0.629200\n",
      "Epoch 26, CIFAR-10 Batch 2:  Loss:     0.0006 Validation Accuracy: 0.631200\n",
      "Epoch 26, CIFAR-10 Batch 3:  Loss:     0.0006 Validation Accuracy: 0.614200\n",
      "Epoch 26, CIFAR-10 Batch 4:  Loss:     0.0005 Validation Accuracy: 0.614800\n",
      "Epoch 26, CIFAR-10 Batch 5:  Loss:     0.0008 Validation Accuracy: 0.603800\n",
      "Epoch 27, CIFAR-10 Batch 1:  Loss:     0.0002 Validation Accuracy: 0.616600\n",
      "Epoch 27, CIFAR-10 Batch 2:  Loss:     0.0003 Validation Accuracy: 0.626600\n",
      "Epoch 27, CIFAR-10 Batch 3:  Loss:     0.0004 Validation Accuracy: 0.625200\n",
      "Epoch 27, CIFAR-10 Batch 4:  Loss:     0.0003 Validation Accuracy: 0.618400\n",
      "Epoch 27, CIFAR-10 Batch 5:  Loss:     0.0009 Validation Accuracy: 0.613800\n",
      "Epoch 28, CIFAR-10 Batch 1:  Loss:     0.0005 Validation Accuracy: 0.635200\n",
      "Epoch 28, CIFAR-10 Batch 2:  Loss:     0.0004 Validation Accuracy: 0.612200\n",
      "Epoch 28, CIFAR-10 Batch 3:  Loss:     0.0006 Validation Accuracy: 0.617800\n",
      "Epoch 28, CIFAR-10 Batch 4:  Loss:     0.0016 Validation Accuracy: 0.614200\n",
      "Epoch 28, CIFAR-10 Batch 5:  Loss:     0.0031 Validation Accuracy: 0.618600\n",
      "Epoch 29, CIFAR-10 Batch 1:  Loss:     0.0003 Validation Accuracy: 0.621000\n",
      "Epoch 29, CIFAR-10 Batch 2:  Loss:     0.0007 Validation Accuracy: 0.607400\n",
      "Epoch 29, CIFAR-10 Batch 3:  Loss:     0.0005 Validation Accuracy: 0.614000\n",
      "Epoch 29, CIFAR-10 Batch 4:  Loss:     0.0009 Validation Accuracy: 0.610200\n",
      "Epoch 29, CIFAR-10 Batch 5:  Loss:     0.0012 Validation Accuracy: 0.614600\n",
      "Epoch 30, CIFAR-10 Batch 1:  Loss:     0.0004 Validation Accuracy: 0.624200\n",
      "Epoch 30, CIFAR-10 Batch 2:  Loss:     0.0008 Validation Accuracy: 0.627800\n",
      "Epoch 30, CIFAR-10 Batch 3:  Loss:     0.0004 Validation Accuracy: 0.629600\n",
      "Epoch 30, CIFAR-10 Batch 4:  Loss:     0.0028 Validation Accuracy: 0.623800\n",
      "Epoch 30, CIFAR-10 Batch 5:  Loss:     0.0003 Validation Accuracy: 0.607800\n",
      "Epoch 31, CIFAR-10 Batch 1:  Loss:     0.0009 Validation Accuracy: 0.629600\n",
      "Epoch 31, CIFAR-10 Batch 2:  Loss:     0.0005 Validation Accuracy: 0.608000\n",
      "Epoch 31, CIFAR-10 Batch 3:  Loss:     0.0000 Validation Accuracy: 0.635800\n",
      "Epoch 31, CIFAR-10 Batch 4:  Loss:     0.0003 Validation Accuracy: 0.623800\n",
      "Epoch 31, CIFAR-10 Batch 5:  Loss:     0.0006 Validation Accuracy: 0.600800\n",
      "Epoch 32, CIFAR-10 Batch 1:  Loss:     0.0010 Validation Accuracy: 0.620800\n",
      "Epoch 32, CIFAR-10 Batch 2:  Loss:     0.0003 Validation Accuracy: 0.624800\n",
      "Epoch 32, CIFAR-10 Batch 3:  Loss:     0.0005 Validation Accuracy: 0.623800\n",
      "Epoch 32, CIFAR-10 Batch 4:  Loss:     0.0003 Validation Accuracy: 0.606400\n",
      "Epoch 32, CIFAR-10 Batch 5:  Loss:     0.0007 Validation Accuracy: 0.604200\n",
      "Epoch 33, CIFAR-10 Batch 1:  Loss:     0.0020 Validation Accuracy: 0.616400\n",
      "Epoch 33, CIFAR-10 Batch 2:  Loss:     0.0002 Validation Accuracy: 0.620400\n",
      "Epoch 33, CIFAR-10 Batch 3:  Loss:     0.0010 Validation Accuracy: 0.608000\n",
      "Epoch 33, CIFAR-10 Batch 4:  Loss:     0.0003 Validation Accuracy: 0.621200\n",
      "Epoch 33, CIFAR-10 Batch 5:  Loss:     0.0010 Validation Accuracy: 0.603400\n",
      "Epoch 34, CIFAR-10 Batch 1:  Loss:     0.0001 Validation Accuracy: 0.610000\n",
      "Epoch 34, CIFAR-10 Batch 2:  Loss:     0.0000 Validation Accuracy: 0.626000\n",
      "Epoch 34, CIFAR-10 Batch 3:  Loss:     0.0007 Validation Accuracy: 0.614400\n",
      "Epoch 34, CIFAR-10 Batch 4:  Loss:     0.0001 Validation Accuracy: 0.617800\n",
      "Epoch 34, CIFAR-10 Batch 5:  Loss:     0.0001 Validation Accuracy: 0.619800\n",
      "Epoch 35, CIFAR-10 Batch 1:  Loss:     0.0002 Validation Accuracy: 0.628200\n",
      "Epoch 35, CIFAR-10 Batch 2:  Loss:     0.0000 Validation Accuracy: 0.628400\n",
      "Epoch 35, CIFAR-10 Batch 3:  Loss:     0.0002 Validation Accuracy: 0.633400\n",
      "Epoch 35, CIFAR-10 Batch 4:  Loss:     0.0009 Validation Accuracy: 0.621600\n",
      "Epoch 35, CIFAR-10 Batch 5:  Loss:     0.0004 Validation Accuracy: 0.607800\n",
      "Epoch 36, CIFAR-10 Batch 1:  Loss:     0.0001 Validation Accuracy: 0.624000\n",
      "Epoch 36, CIFAR-10 Batch 2:  Loss:     0.0005 Validation Accuracy: 0.624200\n",
      "Epoch 36, CIFAR-10 Batch 3:  Loss:     0.0005 Validation Accuracy: 0.618800\n",
      "Epoch 36, CIFAR-10 Batch 4:  Loss:     0.0003 Validation Accuracy: 0.622400\n",
      "Epoch 36, CIFAR-10 Batch 5:  Loss:     0.0009 Validation Accuracy: 0.604200\n",
      "Epoch 37, CIFAR-10 Batch 1:  Loss:     0.0008 Validation Accuracy: 0.630600\n",
      "Epoch 37, CIFAR-10 Batch 2:  Loss:     0.0006 Validation Accuracy: 0.596600\n",
      "Epoch 37, CIFAR-10 Batch 3:  Loss:     0.0001 Validation Accuracy: 0.625000\n",
      "Epoch 37, CIFAR-10 Batch 4:  Loss:     0.0007 Validation Accuracy: 0.615400\n",
      "Epoch 37, CIFAR-10 Batch 5:  Loss:     0.0010 Validation Accuracy: 0.616200\n",
      "Epoch 38, CIFAR-10 Batch 1:  Loss:     0.0003 Validation Accuracy: 0.628000\n",
      "Epoch 38, CIFAR-10 Batch 2:  Loss:     0.0004 Validation Accuracy: 0.599800\n",
      "Epoch 38, CIFAR-10 Batch 3:  Loss:     0.0008 Validation Accuracy: 0.628200\n",
      "Epoch 38, CIFAR-10 Batch 4:  Loss:     0.0002 Validation Accuracy: 0.638400\n",
      "Epoch 38, CIFAR-10 Batch 5:  Loss:     0.0001 Validation Accuracy: 0.625400\n",
      "Epoch 39, CIFAR-10 Batch 1:  Loss:     0.0010 Validation Accuracy: 0.632400\n",
      "Epoch 39, CIFAR-10 Batch 2:  Loss:     0.0004 Validation Accuracy: 0.629600\n",
      "Epoch 39, CIFAR-10 Batch 3:  Loss:     0.0002 Validation Accuracy: 0.632800\n",
      "Epoch 39, CIFAR-10 Batch 4:  Loss:     0.0002 Validation Accuracy: 0.626800\n",
      "Epoch 39, CIFAR-10 Batch 5:  Loss:     0.0007 Validation Accuracy: 0.614000\n",
      "Epoch 40, CIFAR-10 Batch 1:  Loss:     0.0003 Validation Accuracy: 0.633400\n",
      "Epoch 40, CIFAR-10 Batch 2:  Loss:     0.0002 Validation Accuracy: 0.624000\n",
      "Epoch 40, CIFAR-10 Batch 3:  Loss:     0.0011 Validation Accuracy: 0.627200\n",
      "Epoch 40, CIFAR-10 Batch 4:  Loss:     0.0006 Validation Accuracy: 0.624800\n",
      "Epoch 40, CIFAR-10 Batch 5:  Loss:     0.0004 Validation Accuracy: 0.615400\n",
      "Epoch 41, CIFAR-10 Batch 1:  Loss:     0.0001 Validation Accuracy: 0.627200\n",
      "Epoch 41, CIFAR-10 Batch 2:  Loss:     0.0002 Validation Accuracy: 0.636200\n",
      "Epoch 41, CIFAR-10 Batch 3:  Loss:     0.0006 Validation Accuracy: 0.629000\n",
      "Epoch 41, CIFAR-10 Batch 4:  Loss:     0.0002 Validation Accuracy: 0.627200\n",
      "Epoch 41, CIFAR-10 Batch 5:  Loss:     0.0007 Validation Accuracy: 0.614200\n",
      "Epoch 42, CIFAR-10 Batch 1:  Loss:     0.0008 Validation Accuracy: 0.617200\n",
      "Epoch 42, CIFAR-10 Batch 2:  Loss:     0.0001 Validation Accuracy: 0.621000\n",
      "Epoch 42, CIFAR-10 Batch 3:  Loss:     0.0001 Validation Accuracy: 0.621600\n",
      "Epoch 42, CIFAR-10 Batch 4:  Loss:     0.0003 Validation Accuracy: 0.622000\n",
      "Epoch 42, CIFAR-10 Batch 5:  Loss:     0.0007 Validation Accuracy: 0.600800\n",
      "Epoch 43, CIFAR-10 Batch 1:  Loss:     0.0003 Validation Accuracy: 0.615800\n",
      "Epoch 43, CIFAR-10 Batch 2:  Loss:     0.0001 Validation Accuracy: 0.624200\n",
      "Epoch 43, CIFAR-10 Batch 3:  Loss:     0.0001 Validation Accuracy: 0.626800\n",
      "Epoch 43, CIFAR-10 Batch 4:  Loss:     0.0002 Validation Accuracy: 0.628000\n",
      "Epoch 43, CIFAR-10 Batch 5:  Loss:     0.0004 Validation Accuracy: 0.614800\n",
      "Epoch 44, CIFAR-10 Batch 1:  Loss:     0.0001 Validation Accuracy: 0.615200\n",
      "Epoch 44, CIFAR-10 Batch 2:  Loss:     0.0000 Validation Accuracy: 0.629000\n",
      "Epoch 44, CIFAR-10 Batch 3:  Loss:     0.0001 Validation Accuracy: 0.625400\n",
      "Epoch 44, CIFAR-10 Batch 4:  Loss:     0.0003 Validation Accuracy: 0.625400\n",
      "Epoch 44, CIFAR-10 Batch 5:  Loss:     0.0001 Validation Accuracy: 0.620000\n",
      "Epoch 45, CIFAR-10 Batch 1:  Loss:     0.0004 Validation Accuracy: 0.614200\n",
      "Epoch 45, CIFAR-10 Batch 2:  Loss:     0.0001 Validation Accuracy: 0.633800\n",
      "Epoch 45, CIFAR-10 Batch 3:  Loss:     0.0005 Validation Accuracy: 0.619600\n",
      "Epoch 45, CIFAR-10 Batch 4:  Loss:     0.0006 Validation Accuracy: 0.611600\n",
      "Epoch 45, CIFAR-10 Batch 5:  Loss:     0.0001 Validation Accuracy: 0.611200\n",
      "Epoch 46, CIFAR-10 Batch 1:  Loss:     0.0001 Validation Accuracy: 0.628200\n",
      "Epoch 46, CIFAR-10 Batch 2:  Loss:     0.0005 Validation Accuracy: 0.615800\n",
      "Epoch 46, CIFAR-10 Batch 3:  Loss:     0.0001 Validation Accuracy: 0.625800\n",
      "Epoch 46, CIFAR-10 Batch 4:  Loss:     0.0001 Validation Accuracy: 0.623800\n",
      "Epoch 46, CIFAR-10 Batch 5:  Loss:     0.0002 Validation Accuracy: 0.612200\n",
      "Epoch 47, CIFAR-10 Batch 1:  Loss:     0.0002 Validation Accuracy: 0.613600\n",
      "Epoch 47, CIFAR-10 Batch 2:  Loss:     0.0003 Validation Accuracy: 0.616600\n",
      "Epoch 47, CIFAR-10 Batch 3:  Loss:     0.0001 Validation Accuracy: 0.622600\n",
      "Epoch 47, CIFAR-10 Batch 4:  Loss:     0.0002 Validation Accuracy: 0.614600\n",
      "Epoch 47, CIFAR-10 Batch 5:  Loss:     0.0015 Validation Accuracy: 0.614800\n",
      "Epoch 48, CIFAR-10 Batch 1:  Loss:     0.0001 Validation Accuracy: 0.618200\n",
      "Epoch 48, CIFAR-10 Batch 2:  Loss:     0.0006 Validation Accuracy: 0.617800\n",
      "Epoch 48, CIFAR-10 Batch 3:  Loss:     0.0002 Validation Accuracy: 0.625400\n",
      "Epoch 48, CIFAR-10 Batch 4:  Loss:     0.0000 Validation Accuracy: 0.618000\n",
      "Epoch 48, CIFAR-10 Batch 5:  Loss:     0.0002 Validation Accuracy: 0.605000\n",
      "Epoch 49, CIFAR-10 Batch 1:  Loss:     0.0001 Validation Accuracy: 0.619000\n",
      "Epoch 49, CIFAR-10 Batch 2:  Loss:     0.0001 Validation Accuracy: 0.614200\n",
      "Epoch 49, CIFAR-10 Batch 3:  Loss:     0.0004 Validation Accuracy: 0.624600\n",
      "Epoch 49, CIFAR-10 Batch 4:  Loss:     0.0000 Validation Accuracy: 0.619600\n",
      "Epoch 49, CIFAR-10 Batch 5:  Loss:     0.0001 Validation Accuracy: 0.608800\n",
      "Epoch 50, CIFAR-10 Batch 1:  Loss:     0.0001 Validation Accuracy: 0.618200\n",
      "Epoch 50, CIFAR-10 Batch 2:  Loss:     0.0000 Validation Accuracy: 0.632600\n",
      "Epoch 50, CIFAR-10 Batch 3:  Loss:     0.0000 Validation Accuracy: 0.623400\n",
      "Epoch 50, CIFAR-10 Batch 4:  Loss:     0.0002 Validation Accuracy: 0.636800\n",
      "Epoch 50, CIFAR-10 Batch 5:  Loss:     0.0001 Validation Accuracy: 0.614200\n",
      "Epoch 51, CIFAR-10 Batch 1:  Loss:     0.0002 Validation Accuracy: 0.626600\n",
      "Epoch 51, CIFAR-10 Batch 2:  Loss:     0.0007 Validation Accuracy: 0.617600\n",
      "Epoch 51, CIFAR-10 Batch 3:  Loss:     0.0001 Validation Accuracy: 0.621000\n",
      "Epoch 51, CIFAR-10 Batch 4:  Loss:     0.0001 Validation Accuracy: 0.617000\n",
      "Epoch 51, CIFAR-10 Batch 5:  Loss:     0.0003 Validation Accuracy: 0.606200\n",
      "Epoch 52, CIFAR-10 Batch 1:  Loss:     0.0001 Validation Accuracy: 0.610000\n",
      "Epoch 52, CIFAR-10 Batch 2:  Loss:     0.0000 Validation Accuracy: 0.627600\n",
      "Epoch 52, CIFAR-10 Batch 3:  Loss:     0.0000 Validation Accuracy: 0.620400\n",
      "Epoch 52, CIFAR-10 Batch 4:  Loss:     0.0001 Validation Accuracy: 0.621400\n",
      "Epoch 52, CIFAR-10 Batch 5:  Loss:     0.0006 Validation Accuracy: 0.612800\n",
      "Epoch 53, CIFAR-10 Batch 1:  Loss:     0.0004 Validation Accuracy: 0.623800\n",
      "Epoch 53, CIFAR-10 Batch 2:  Loss:     0.0003 Validation Accuracy: 0.611600\n",
      "Epoch 53, CIFAR-10 Batch 3:  Loss:     0.0001 Validation Accuracy: 0.625400\n",
      "Epoch 53, CIFAR-10 Batch 4:  Loss:     0.0025 Validation Accuracy: 0.621000\n",
      "Epoch 53, CIFAR-10 Batch 5:  Loss:     0.0001 Validation Accuracy: 0.627200\n",
      "Epoch 54, CIFAR-10 Batch 1:  Loss:     0.0002 Validation Accuracy: 0.619000\n",
      "Epoch 54, CIFAR-10 Batch 2:  Loss:     0.0001 Validation Accuracy: 0.621400\n",
      "Epoch 54, CIFAR-10 Batch 3:  Loss:     0.0002 Validation Accuracy: 0.623800\n",
      "Epoch 54, CIFAR-10 Batch 4:  Loss:     0.0000 Validation Accuracy: 0.638200\n",
      "Epoch 54, CIFAR-10 Batch 5:  Loss:     0.0001 Validation Accuracy: 0.616000\n",
      "Epoch 55, CIFAR-10 Batch 1:  Loss:     0.0001 Validation Accuracy: 0.628400\n",
      "Epoch 55, CIFAR-10 Batch 2:  Loss:     0.0001 Validation Accuracy: 0.626000\n",
      "Epoch 55, CIFAR-10 Batch 3:  Loss:     0.0002 Validation Accuracy: 0.610800\n",
      "Epoch 55, CIFAR-10 Batch 4:  Loss:     0.0001 Validation Accuracy: 0.624800\n",
      "Epoch 55, CIFAR-10 Batch 5:  Loss:     0.0000 Validation Accuracy: 0.620600\n",
      "Epoch 56, CIFAR-10 Batch 1:  Loss:     0.0002 Validation Accuracy: 0.610600\n",
      "Epoch 56, CIFAR-10 Batch 2:  Loss:     0.0001 Validation Accuracy: 0.625000\n",
      "Epoch 56, CIFAR-10 Batch 3:  Loss:     0.0001 Validation Accuracy: 0.615800\n",
      "Epoch 56, CIFAR-10 Batch 4:  Loss:     0.0000 Validation Accuracy: 0.622400\n",
      "Epoch 56, CIFAR-10 Batch 5:  Loss:     0.0000 Validation Accuracy: 0.631800\n",
      "Epoch 57, CIFAR-10 Batch 1:  Loss:     0.0002 Validation Accuracy: 0.620800\n",
      "Epoch 57, CIFAR-10 Batch 2:  Loss:     0.0001 Validation Accuracy: 0.620800\n",
      "Epoch 57, CIFAR-10 Batch 3:  Loss:     0.0002 Validation Accuracy: 0.629400\n",
      "Epoch 57, CIFAR-10 Batch 4:  Loss:     0.0001 Validation Accuracy: 0.628400\n",
      "Epoch 57, CIFAR-10 Batch 5:  Loss:     0.0001 Validation Accuracy: 0.620600\n",
      "Epoch 58, CIFAR-10 Batch 1:  Loss:     0.0002 Validation Accuracy: 0.622600\n",
      "Epoch 58, CIFAR-10 Batch 2:  Loss:     0.0000 Validation Accuracy: 0.626000\n",
      "Epoch 58, CIFAR-10 Batch 3:  Loss:     0.0001 Validation Accuracy: 0.625400\n",
      "Epoch 58, CIFAR-10 Batch 4:  Loss:     0.0000 Validation Accuracy: 0.627600\n",
      "Epoch 58, CIFAR-10 Batch 5:  Loss:     0.0002 Validation Accuracy: 0.619800\n",
      "Epoch 59, CIFAR-10 Batch 1:  Loss:     0.0000 Validation Accuracy: 0.619800\n",
      "Epoch 59, CIFAR-10 Batch 2:  Loss:     0.0000 Validation Accuracy: 0.625600\n",
      "Epoch 59, CIFAR-10 Batch 3:  Loss:     0.0000 Validation Accuracy: 0.627800\n",
      "Epoch 59, CIFAR-10 Batch 4:  Loss:     0.0000 Validation Accuracy: 0.620400\n",
      "Epoch 59, CIFAR-10 Batch 5:  Loss:     0.0001 Validation Accuracy: 0.617600\n",
      "Epoch 60, CIFAR-10 Batch 1:  Loss:     0.0000 Validation Accuracy: 0.617400\n",
      "Epoch 60, CIFAR-10 Batch 2:  Loss:     0.0005 Validation Accuracy: 0.621200\n",
      "Epoch 60, CIFAR-10 Batch 3:  Loss:     0.0000 Validation Accuracy: 0.630800\n",
      "Epoch 60, CIFAR-10 Batch 4:  Loss:     0.0000 Validation Accuracy: 0.618400\n",
      "Epoch 60, CIFAR-10 Batch 5:  Loss:     0.0000 Validation Accuracy: 0.628200\n"
     ]
    }
   ],
   "source": [
    "\"\"\"\n",
    "DON'T MODIFY ANYTHING IN THIS CELL\n",
    "\"\"\"\n",
    "save_model_path = './image_classification'\n",
    "\n",
    "print('Training...')\n",
    "with tf.Session() as sess:\n",
    "    # Initializing the variables\n",
    "    sess.run(tf.global_variables_initializer())\n",
    "    \n",
    "    # Training cycle\n",
    "    for epoch in range(epochs):\n",
    "        # Loop over all batches\n",
    "        n_batches = 5\n",
    "        for batch_i in range(1, n_batches + 1):\n",
    "            for batch_features, batch_labels in helper.load_preprocess_training_batch(batch_i, batch_size):\n",
    "                train_neural_network(sess, optimizer, keep_probability, batch_features, batch_labels)\n",
    "            print('Epoch {:>2}, CIFAR-10 Batch {}:  '.format(epoch + 1, batch_i), end='')\n",
    "            print_stats(sess, batch_features, batch_labels, cost, accuracy)\n",
    "            \n",
    "    # Save Model\n",
    "    saver = tf.train.Saver()\n",
    "    save_path = saver.save(sess, save_model_path)"
   ]
  },
  {
   "cell_type": "markdown",
   "metadata": {},
   "source": [
    "# Checkpoint\n",
    "The model has been saved to disk.\n",
    "## Test Model\n",
    "Test your model against the test dataset.  This will be your final accuracy. You should have an accuracy greater than 50%. If you don't, keep tweaking the model architecture and parameters."
   ]
  },
  {
   "cell_type": "code",
   "execution_count": 18,
   "metadata": {
    "collapsed": false
   },
   "outputs": [
    {
     "name": "stdout",
     "output_type": "stream",
     "text": [
      "Testing Accuracy: 0.6189453125\n",
      "\n"
     ]
    },
    {
     "data": {
      "image/png": "[encoded data removed]",
      "text/plain": [
       "<matplotlib.figure.Figure at 0x7f88b462a828>"
      ]
     },
     "metadata": {
      "image/png": {
       "height": 319,
       "width": 353
      }
     },
     "output_type": "display_data"
    }
   ],
   "source": [
    "\"\"\"\n",
    "DON'T MODIFY ANYTHING IN THIS CELL\n",
    "\"\"\"\n",
    "%matplotlib inline\n",
    "%config InlineBackend.figure_format = 'retina'\n",
    "\n",
    "import tensorflow as tf\n",
    "import pickle\n",
    "import helper\n",
    "import random\n",
    "\n",
    "# Set batch size if not already set\n",
    "try:\n",
    "    if batch_size:\n",
    "        pass\n",
    "except NameError:\n",
    "    batch_size = 64\n",
    "\n",
    "save_model_path = './image_classification'\n",
    "n_samples = 4\n",
    "top_n_predictions = 3\n",
    "\n",
    "def test_model():\n",
    "    \"\"\"\n",
    "    Test the saved model against the test dataset\n",
    "    \"\"\"\n",
    "\n",
    "    test_features, test_labels = pickle.load(open('preprocess_training.p', mode='rb'))\n",
    "    loaded_graph = tf.Graph()\n",
    "\n",
    "    with tf.Session(graph=loaded_graph) as sess:\n",
    "        # Load model\n",
    "        loader = tf.train.import_meta_graph(save_model_path + '.meta')\n",
    "        loader.restore(sess, save_model_path)\n",
    "\n",
    "        # Get Tensors from loaded model\n",
    "        loaded_x = loaded_graph.get_tensor_by_name('x:0')\n",
    "        loaded_y = loaded_graph.get_tensor_by_name('y:0')\n",
    "        loaded_keep_prob = loaded_graph.get_tensor_by_name('keep_prob:0')\n",
    "        loaded_logits = loaded_graph.get_tensor_by_name('logits:0')\n",
    "        loaded_acc = loaded_graph.get_tensor_by_name('accuracy:0')\n",
    "        \n",
    "        # Get accuracy in batches for memory limitations\n",
    "        test_batch_acc_total = 0\n",
    "        test_batch_count = 0\n",
    "        \n",
    "        for train_feature_batch, train_label_batch in helper.batch_features_labels(test_features, test_labels, batch_size):\n",
    "            test_batch_acc_total += sess.run(\n",
    "                loaded_acc,\n",
    "                feed_dict={loaded_x: train_feature_batch, loaded_y: train_label_batch, loaded_keep_prob: 1.0})\n",
    "            test_batch_count += 1\n",
    "\n",
    "        print('Testing Accuracy: {}\\n'.format(test_batch_acc_total/test_batch_count))\n",
    "\n",
    "        # Print Random Samples\n",
    "        random_test_features, random_test_labels = tuple(zip(*random.sample(list(zip(test_features, test_labels)), n_samples)))\n",
    "        random_test_predictions = sess.run(\n",
    "            tf.nn.top_k(tf.nn.softmax(loaded_logits), top_n_predictions),\n",
    "            feed_dict={loaded_x: random_test_features, loaded_y: random_test_labels, loaded_keep_prob: 1.0})\n",
    "        helper.display_image_predictions(random_test_features, random_test_labels, random_test_predictions)\n",
    "\n",
    "\n",
    "test_model()"
   ]
  },
  {
   "cell_type": "markdown",
   "metadata": {},
   "source": [
    "## Why 50-70% Accuracy?\n",
    "You might be wondering why you can't get an accuracy any higher. First things first, 50% isn't bad for a simple CNN.  Pure guessing would get you 10% accuracy. However, you might notice people are getting scores [well above 70%](http://rodrigob.github.io/are_we_there_yet/build/classification_datasets_results.html#43494641522d3130).  That's because we haven't taught you all there is to know about neural networks. We still need to cover a few more techniques.\n",
    "## Submitting This Project\n",
    "When submitting this project, make sure to run all the cells before saving the notebook.  Save the notebook file as \"dlnd_image_classification.ipynb\" and save it as a HTML file under \"File\" -> \"Download as\".  Include the \"helper.py\" and \"problem_unittests.py\" files in your submission."
   ]
  },
  {
   "cell_type": "code",
   "execution_count": null,
   "metadata": {
    "collapsed": true
   },
   "outputs": [],
   "source": []
  }
 ],
 "metadata": {
  "kernelspec": {
   "display_name": "Python 3",
   "language": "python",
   "name": "python3"
  },
  "language_info": {
   "codemirror_mode": {
    "name": "ipython",
    "version": 3
   },
   "file_extension": ".py",
   "mimetype": "text/x-python",
   "name": "python",
   "nbconvert_exporter": "python",
   "pygments_lexer": "ipython3",
   "version": "3.5.3"
  }
 },
 "nbformat": 4,
 "nbformat_minor": 0
}
